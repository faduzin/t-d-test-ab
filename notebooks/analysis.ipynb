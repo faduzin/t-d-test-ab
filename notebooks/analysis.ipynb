{
 "cells": [
  {
   "cell_type": "code",
   "execution_count": 1,
   "id": "6f8d07e2",
   "metadata": {},
   "outputs": [],
   "source": [
    "import pandas as pd\n",
    "import numpy as np\n",
    "from math import erf, sqrt\n",
    "import matplotlib.pyplot as plt\n",
    "import os\n",
    "\n",
    "os.chdir(os.path.dirname(os.getcwd()))"
   ]
  },
  {
   "cell_type": "code",
   "execution_count": 2,
   "id": "c92a7666",
   "metadata": {},
   "outputs": [],
   "source": [
    "data_path = \"data/marketing_AB.csv\"\n",
    "df = pd.read_csv(data_path)"
   ]
  },
  {
   "cell_type": "code",
   "execution_count": 3,
   "id": "6c389330",
   "metadata": {},
   "outputs": [
    {
     "name": "stdout",
     "output_type": "stream",
     "text": [
      "Verificação de importação:\n"
     ]
    },
    {
     "data": {
      "text/html": [
       "<div>\n",
       "<style scoped>\n",
       "    .dataframe tbody tr th:only-of-type {\n",
       "        vertical-align: middle;\n",
       "    }\n",
       "\n",
       "    .dataframe tbody tr th {\n",
       "        vertical-align: top;\n",
       "    }\n",
       "\n",
       "    .dataframe thead th {\n",
       "        text-align: right;\n",
       "    }\n",
       "</style>\n",
       "<table border=\"1\" class=\"dataframe\">\n",
       "  <thead>\n",
       "    <tr style=\"text-align: right;\">\n",
       "      <th></th>\n",
       "      <th>Unnamed: 0</th>\n",
       "      <th>user id</th>\n",
       "      <th>test group</th>\n",
       "      <th>converted</th>\n",
       "      <th>total ads</th>\n",
       "      <th>most ads day</th>\n",
       "      <th>most ads hour</th>\n",
       "    </tr>\n",
       "  </thead>\n",
       "  <tbody>\n",
       "    <tr>\n",
       "      <th>0</th>\n",
       "      <td>0</td>\n",
       "      <td>1069124</td>\n",
       "      <td>ad</td>\n",
       "      <td>False</td>\n",
       "      <td>130</td>\n",
       "      <td>Monday</td>\n",
       "      <td>20</td>\n",
       "    </tr>\n",
       "    <tr>\n",
       "      <th>1</th>\n",
       "      <td>1</td>\n",
       "      <td>1119715</td>\n",
       "      <td>ad</td>\n",
       "      <td>False</td>\n",
       "      <td>93</td>\n",
       "      <td>Tuesday</td>\n",
       "      <td>22</td>\n",
       "    </tr>\n",
       "    <tr>\n",
       "      <th>2</th>\n",
       "      <td>2</td>\n",
       "      <td>1144181</td>\n",
       "      <td>ad</td>\n",
       "      <td>False</td>\n",
       "      <td>21</td>\n",
       "      <td>Tuesday</td>\n",
       "      <td>18</td>\n",
       "    </tr>\n",
       "    <tr>\n",
       "      <th>3</th>\n",
       "      <td>3</td>\n",
       "      <td>1435133</td>\n",
       "      <td>ad</td>\n",
       "      <td>False</td>\n",
       "      <td>355</td>\n",
       "      <td>Tuesday</td>\n",
       "      <td>10</td>\n",
       "    </tr>\n",
       "    <tr>\n",
       "      <th>4</th>\n",
       "      <td>4</td>\n",
       "      <td>1015700</td>\n",
       "      <td>ad</td>\n",
       "      <td>False</td>\n",
       "      <td>276</td>\n",
       "      <td>Friday</td>\n",
       "      <td>14</td>\n",
       "    </tr>\n",
       "  </tbody>\n",
       "</table>\n",
       "</div>"
      ],
      "text/plain": [
       "   Unnamed: 0  user id test group  converted  total ads most ads day  \\\n",
       "0           0  1069124         ad      False        130       Monday   \n",
       "1           1  1119715         ad      False         93      Tuesday   \n",
       "2           2  1144181         ad      False         21      Tuesday   \n",
       "3           3  1435133         ad      False        355      Tuesday   \n",
       "4           4  1015700         ad      False        276       Friday   \n",
       "\n",
       "   most ads hour  \n",
       "0             20  \n",
       "1             22  \n",
       "2             18  \n",
       "3             10  \n",
       "4             14  "
      ]
     },
     "execution_count": 3,
     "metadata": {},
     "output_type": "execute_result"
    }
   ],
   "source": [
    "print(\"Verificação de importação:\")\n",
    "df.head()"
   ]
  },
  {
   "cell_type": "code",
   "execution_count": 4,
   "id": "236b6f96",
   "metadata": {},
   "outputs": [
    {
     "name": "stdout",
     "output_type": "stream",
     "text": [
      "Verificação de valores nulos:\n"
     ]
    },
    {
     "data": {
      "text/plain": [
       "Unnamed: 0       0\n",
       "user id          0\n",
       "test group       0\n",
       "converted        0\n",
       "total ads        0\n",
       "most ads day     0\n",
       "most ads hour    0\n",
       "dtype: int64"
      ]
     },
     "execution_count": 4,
     "metadata": {},
     "output_type": "execute_result"
    }
   ],
   "source": [
    "print(\"Verificação de valores nulos:\")\n",
    "df.isna().sum()"
   ]
  },
  {
   "cell_type": "code",
   "execution_count": 5,
   "id": "50aac3e7",
   "metadata": {},
   "outputs": [
    {
     "name": "stdout",
     "output_type": "stream",
     "text": [
      "Verificação de estatísticas descritivas para colunas numéricas:\n"
     ]
    },
    {
     "data": {
      "text/html": [
       "<div>\n",
       "<style scoped>\n",
       "    .dataframe tbody tr th:only-of-type {\n",
       "        vertical-align: middle;\n",
       "    }\n",
       "\n",
       "    .dataframe tbody tr th {\n",
       "        vertical-align: top;\n",
       "    }\n",
       "\n",
       "    .dataframe thead th {\n",
       "        text-align: right;\n",
       "    }\n",
       "</style>\n",
       "<table border=\"1\" class=\"dataframe\">\n",
       "  <thead>\n",
       "    <tr style=\"text-align: right;\">\n",
       "      <th></th>\n",
       "      <th>Unnamed: 0</th>\n",
       "      <th>user id</th>\n",
       "      <th>total ads</th>\n",
       "      <th>most ads hour</th>\n",
       "    </tr>\n",
       "  </thead>\n",
       "  <tbody>\n",
       "    <tr>\n",
       "      <th>count</th>\n",
       "      <td>588101.000000</td>\n",
       "      <td>5.881010e+05</td>\n",
       "      <td>588101.000000</td>\n",
       "      <td>588101.000000</td>\n",
       "    </tr>\n",
       "    <tr>\n",
       "      <th>mean</th>\n",
       "      <td>294050.000000</td>\n",
       "      <td>1.310692e+06</td>\n",
       "      <td>24.820876</td>\n",
       "      <td>14.469061</td>\n",
       "    </tr>\n",
       "    <tr>\n",
       "      <th>std</th>\n",
       "      <td>169770.279668</td>\n",
       "      <td>2.022260e+05</td>\n",
       "      <td>43.715181</td>\n",
       "      <td>4.834634</td>\n",
       "    </tr>\n",
       "    <tr>\n",
       "      <th>min</th>\n",
       "      <td>0.000000</td>\n",
       "      <td>9.000000e+05</td>\n",
       "      <td>1.000000</td>\n",
       "      <td>0.000000</td>\n",
       "    </tr>\n",
       "    <tr>\n",
       "      <th>25%</th>\n",
       "      <td>147025.000000</td>\n",
       "      <td>1.143190e+06</td>\n",
       "      <td>4.000000</td>\n",
       "      <td>11.000000</td>\n",
       "    </tr>\n",
       "    <tr>\n",
       "      <th>50%</th>\n",
       "      <td>294050.000000</td>\n",
       "      <td>1.313725e+06</td>\n",
       "      <td>13.000000</td>\n",
       "      <td>14.000000</td>\n",
       "    </tr>\n",
       "    <tr>\n",
       "      <th>75%</th>\n",
       "      <td>441075.000000</td>\n",
       "      <td>1.484088e+06</td>\n",
       "      <td>27.000000</td>\n",
       "      <td>18.000000</td>\n",
       "    </tr>\n",
       "    <tr>\n",
       "      <th>max</th>\n",
       "      <td>588100.000000</td>\n",
       "      <td>1.654483e+06</td>\n",
       "      <td>2065.000000</td>\n",
       "      <td>23.000000</td>\n",
       "    </tr>\n",
       "  </tbody>\n",
       "</table>\n",
       "</div>"
      ],
      "text/plain": [
       "          Unnamed: 0       user id      total ads  most ads hour\n",
       "count  588101.000000  5.881010e+05  588101.000000  588101.000000\n",
       "mean   294050.000000  1.310692e+06      24.820876      14.469061\n",
       "std    169770.279668  2.022260e+05      43.715181       4.834634\n",
       "min         0.000000  9.000000e+05       1.000000       0.000000\n",
       "25%    147025.000000  1.143190e+06       4.000000      11.000000\n",
       "50%    294050.000000  1.313725e+06      13.000000      14.000000\n",
       "75%    441075.000000  1.484088e+06      27.000000      18.000000\n",
       "max    588100.000000  1.654483e+06    2065.000000      23.000000"
      ]
     },
     "execution_count": 5,
     "metadata": {},
     "output_type": "execute_result"
    }
   ],
   "source": [
    "print(\"Verificação de estatísticas descritivas para colunas numéricas:\")\n",
    "df.describe()"
   ]
  },
  {
   "cell_type": "code",
   "execution_count": 6,
   "id": "1ec0daa7",
   "metadata": {},
   "outputs": [
    {
     "name": "stdout",
     "output_type": "stream",
     "text": [
      "Contagem de usuários únicos:\n"
     ]
    },
    {
     "data": {
      "text/plain": [
       "588101"
      ]
     },
     "execution_count": 6,
     "metadata": {},
     "output_type": "execute_result"
    }
   ],
   "source": [
    "print(\"Contagem de usuários únicos:\")\n",
    "df['user id'].nunique()"
   ]
  },
  {
   "cell_type": "code",
   "execution_count": 7,
   "id": "dbfce85d",
   "metadata": {},
   "outputs": [
    {
     "name": "stdout",
     "output_type": "stream",
     "text": [
      "Distribuição de usuários por grupo de teste:\n",
      "Grupo ad: 564577 usuários\n",
      "Grupo psa: 23524 usuários\n"
     ]
    }
   ],
   "source": [
    "print(\"Distribuição de usuários por grupo de teste:\")\n",
    "for group, count in df['test group'].value_counts().items():\n",
    "    print(f\"Grupo {group}: {count} usuários\")"
   ]
  },
  {
   "cell_type": "code",
   "execution_count": 8,
   "id": "66c4ac7f",
   "metadata": {},
   "outputs": [
    {
     "name": "stdout",
     "output_type": "stream",
     "text": [
      "Conversão média geral: 2.52%\n",
      "Conversão média para o grupo ad: 2.55%\n",
      "Conversão média para o grupo psa: 1.79%\n"
     ]
    }
   ],
   "source": [
    "df['converted_dummy'] = df['converted'].astype(int)\n",
    "print(f\"Conversão média geral: {round(df['converted_dummy'].mean()*100, 2)}%\")\n",
    "for group,value in df.groupby('test group')['converted_dummy'].mean().items():\n",
    "    print(f\"Conversão média para o grupo {group}: {round(value*100, 2)}%\")"
   ]
  },
  {
   "cell_type": "code",
   "execution_count": 9,
   "id": "71d7c4c0",
   "metadata": {},
   "outputs": [],
   "source": [
    "def normal_cdf(z):\n",
    "    return 0.5 * (1.0 + erf(z / sqrt(2.0)))\n",
    "\n",
    "def ztest_two_proportions(success_A, nA, success_B, nB):\n",
    "    pA = success_A / nA\n",
    "    pB = success_B / nB\n",
    "    p_pool = (success_A + success_B) / (nA + nB)\n",
    "    se0 = np.sqrt(p_pool * (1 - p_pool) * (1/nA + 1/nB))\n",
    "    z = (pA - pB) / se0\n",
    "    pval = 2 * (1 - normal_cdf(abs(z)))\n",
    "    return pA, pB, z, pval, se0"
   ]
  },
  {
   "cell_type": "code",
   "execution_count": 10,
   "id": "58c72bae",
   "metadata": {},
   "outputs": [
    {
     "name": "stdout",
     "output_type": "stream",
     "text": [
      "Taxa de conversão ad: 0.0255\n",
      "Taxa de conversão psa: 0.0179\n",
      "Diferença: 0.0077\n",
      "Z = 7.370, p-valor = 1.705e-13\n",
      "IC95% da diferença: [0.0060, 0.0094]\n"
     ]
    }
   ],
   "source": [
    "tab = df.groupby(\"test group\")[\"converted_dummy\"].agg([\"sum\", \"count\"])\n",
    "\n",
    "success_A, nA = tab.loc[\"ad\", \"sum\"], tab.loc[\"ad\", \"count\"]\n",
    "success_B, nB = tab.loc[\"psa\", \"sum\"], tab.loc[\"psa\", \"count\"]\n",
    "\n",
    "pA, pB, z, pval, se0 = ztest_two_proportions(success_A, nA, success_B, nB)\n",
    "\n",
    "se_diff = np.sqrt(pA*(1-pA)/nA + pB*(1-pB)/nB)\n",
    "ci_low  = (pA - pB) - 1.96*se_diff\n",
    "ci_high = (pA - pB) + 1.96*se_diff\n",
    "\n",
    "print(f\"Taxa de conversão ad: {pA:.4f}\")\n",
    "print(f\"Taxa de conversão psa: {pB:.4f}\")\n",
    "print(f\"Diferença: {pA-pB:.4f}\")\n",
    "print(f\"Z = {z:.3f}, p-valor = {pval:.4g}\")\n",
    "print(f\"IC95% da diferença: [{ci_low:.4f}, {ci_high:.4f}]\")\n"
   ]
  },
  {
   "cell_type": "markdown",
   "id": "df7f679f",
   "metadata": {},
   "source": [
    "## Análise\n",
    "\n",
    "Definimos as hipóteses:\n",
    "\n",
    "- **Métrica de sucesso**: taxa de conversão.\n",
    "- **H0**: não há diferença na taxa de conversão entre os grupos.  \n",
    "- **H1**: há diferença na taxa de conversão entre os grupos.\n",
    "\n",
    "1. A diferença observada entre as taxas de conversão dos grupos foi de aproximadamente **0,0077** (0,77 pontos percentuais).  \n",
    "2. O cálculo da estatística Z para duas proporções resultou em **Z = 7,37**, indicando que a diferença observada está a mais de sete erros-padrão de distância do valor esperado sob H0.  \n",
    "3. Considerando um nível de significância \\(\\alpha = 0,05\\), o p-valor obtido foi de **1,705e-13**, muito menor que \\(\\alpha\\). Portanto, rejeitamos H0 e concluímos que há evidência estatística de diferença entre os grupos.  \n",
    "4. O intervalo de confiança de 95% para a diferença de conversão está entre **0,0060 e 0,0094**. Como todo o intervalo está acima de zero, confirmamos que a diferença é estatisticamente significativa e, além disso, tem relevância prática.\n",
    "\n",
    "## Conclusão\n",
    "\n",
    "Os resultados da análise indicam que há uma **diferença estatisticamente significativa** entre os grupos de teste e controle.  \n",
    "A diferença observada na taxa de conversão foi de aproximadamente **0,77 pontos percentuais**, com um **p-valor extremamente baixo** (\\(p < 0,0001\\)), o que nos leva a rejeitar a hipótese nula de igualdade entre os grupos.  \n",
    "\n",
    "Além disso, o **intervalo de confiança de 95%** para a diferença de conversão \\([0,60%, 0,94%]\\) encontra-se inteiramente acima de zero, reforçando a evidência de que o grupo de teste apresenta desempenho superior ao grupo de controle.  \n",
    "\n",
    "Em resumo, os resultados não apenas confirmam a significância estatística da diferença, mas também demonstram **relevância prática**, sugerindo que a variação testada tem impacto real e positivo sobre a taxa de conversão."
   ]
  },
  {
   "cell_type": "code",
   "execution_count": 27,
   "id": "1a62ac41",
   "metadata": {},
   "outputs": [
    {
     "data": {
      "text/plain": [
       "<Axes: xlabel='test group'>"
      ]
     },
     "execution_count": 27,
     "metadata": {},
     "output_type": "execute_result"
    },
    {
     "data": {
      "image/png": "[encoded data removed]",
      "text/plain": [
       "<Figure size 640x480 with 1 Axes>"
      ]
     },
     "metadata": {},
     "output_type": "display_data"
    }
   ],
   "source": [
    "df.groupby(\"test group\")[\"converted_dummy\"].mean().plot(kind='bar')"
   ]
  },
  {
   "cell_type": "code",
   "execution_count": 25,
   "id": "0382ce22",
   "metadata": {},
   "outputs": [
    {
     "data": {
      "text/plain": [
       "<Axes: xlabel='most ads hour'>"
      ]
     },
     "execution_count": 25,
     "metadata": {},
     "output_type": "execute_result"
    },
    {
     "data": {
      "image/png": "[encoded data removed]",
      "text/plain": [
       "<Figure size 640x480 with 1 Axes>"
      ]
     },
     "metadata": {},
     "output_type": "display_data"
    }
   ],
   "source": [
    "df.groupby([\"most ads hour\", \"test group\"])[\"converted_dummy\"].mean().unstack().plot(kind='bar')"
   ]
  },
  {
   "cell_type": "code",
   "execution_count": 17,
   "id": "0bd46f78",
   "metadata": {},
   "outputs": [
    {
     "name": "stderr",
     "output_type": "stream",
     "text": [
      "C:\\Users\\Eric Yoshida\\AppData\\Local\\Temp\\ipykernel_13020\\2178019881.py:2: FutureWarning: The default of observed=False is deprecated and will be changed to True in a future version of pandas. Pass observed=False to retain current behavior or observed=True to adopt the future default and silence this warning.\n",
      "  df.groupby(['ads count range', 'test group'])['converted_dummy'].mean().unstack().plot(kind='bar')\n"
     ]
    },
    {
     "data": {
      "text/plain": [
       "<Axes: xlabel='ads count range'>"
      ]
     },
     "execution_count": 17,
     "metadata": {},
     "output_type": "execute_result"
    },
    {
     "data": {
      "image/png": "[encoded data removed]",
      "text/plain": [
       "<Figure size 640x480 with 1 Axes>"
      ]
     },
     "metadata": {},
     "output_type": "display_data"
    }
   ],
   "source": [
    "df['ads count range'] = pd.cut(df['total ads'], bins=[0, 20, 50, 100, 500, np.inf], labels=['0-20', '21-50', '51-100', '101-500', '500+'])\n",
    "df.groupby(['ads count range', 'test group'])['converted_dummy'].mean().unstack().plot(kind='bar')\n"
   ]
  },
  {
   "cell_type": "code",
   "execution_count": 24,
   "id": "5e75a790",
   "metadata": {},
   "outputs": [
    {
     "data": {
      "text/plain": [
       "<Axes: ylabel='most ads day'>"
      ]
     },
     "execution_count": 24,
     "metadata": {},
     "output_type": "execute_result"
    },
    {
     "data": {
      "image/png": "[encoded data removed]",
      "text/plain": [
       "<Figure size 640x480 with 1 Axes>"
      ]
     },
     "metadata": {},
     "output_type": "display_data"
    }
   ],
   "source": [
    "dias_semana = ['Sunday', 'Monday', 'Tuesday', 'Wednesday', 'Thursday', 'Friday', 'Saturday']\n",
    "df.groupby(['most ads day', 'test group'])['converted_dummy'].mean().unstack().loc[dias_semana[::-1]].plot(kind='barh')\n"
   ]
  },
  {
   "cell_type": "markdown",
   "id": "df186768",
   "metadata": {},
   "source": [
    "## Resultados\n",
    "\n",
    "O teste A/B demonstrou que há uma **diferença estatisticamente significativa** entre os grupos.  \n",
    "Além disso, a análise revelou padrões importantes de comportamento: as **segundas e terças-feiras apresentam taxas de conversão mais altas**, e os horários entre **14h e 16h** e entre **20h e 21h** se destacam como períodos estratégicos, com maior probabilidade de conversão."
   ]
  }
 ],
 "metadata": {
  "kernelspec": {
   "display_name": "Python 3",
   "language": "python",
   "name": "python3"
  },
  "language_info": {
   "codemirror_mode": {
    "name": "ipython",
    "version": 3
   },
   "file_extension": ".py",
   "mimetype": "text/x-python",
   "name": "python",
   "nbconvert_exporter": "python",
   "pygments_lexer": "ipython3",
   "version": "3.10.10"
  }
 },
 "nbformat": 4,
 "nbformat_minor": 5
}
